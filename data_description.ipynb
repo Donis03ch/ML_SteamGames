{
 "cells": [
  {
   "cell_type": "code",
   "execution_count": 23,
   "id": "0988a3bd-3554-4fdf-ac3d-5f4701b2c9f4",
   "metadata": {},
   "outputs": [
    {
     "name": "stdout",
     "output_type": "stream",
     "text": [
      "Medianwerte:\n",
      " Adj Close       50.583900\n",
      "Close           66.040001\n",
      "High            66.650002\n",
      "Low             65.440002\n",
      "Open            66.000000\n",
      "Volume       91000.000000\n",
      "dtype: float64\n",
      "Standardabweichungen:\n",
      " Adj Close        52.272225\n",
      "Close            51.295776\n",
      "High             51.552662\n",
      "Low              50.976716\n",
      "Open             55.851523\n",
      "Volume       387425.599372\n",
      "dtype: float64\n"
     ]
    }
   ],
   "source": [
    "import pandas as pd\n",
    "\n",
    "# Daten laden\n",
    "df = pd.read_csv(r'C:\\Users\\donis\\Downloads\\Toyota_Data.csv') # Path zum Datensatz\n",
    "df.head()\n",
    "\n",
    "# 2.1 Zielvariable für Vorhersage definieren\n",
    "target_variable = 'High'\n",
    "\n",
    "# 2.2 Statistische Kennwerte\n",
    "# Statistische Informationen für alle Felder\n",
    "stats = df.describe()\n",
    "\n",
    "# Statistische Informationen für \"High\"\n",
    "high_stats = df[target_variable].describe()\n",
    "high_stats\n",
    "\n",
    "median_values = df.select_dtypes(include=[np.number]).median()\n",
    "\n",
    "std_values = df.select_dtypes(include=[np.number]).std()\n",
    "\n",
    "\n",
    "print(\"Medianwerte:\\n\", median_values)\n",
    "print(\"Standardabweichungen:\\n\", std_values)\n"
   ]
  },
  {
   "cell_type": "code",
   "execution_count": 21,
   "id": "92c4215b-bf88-4496-bd90-a9fa223ca2a7",
   "metadata": {},
   "outputs": [
    {
     "data": {
      "image/png": "[encoded data removed]",
      "text/plain": [
       "<Figure size 640x480 with 1 Axes>"
      ]
     },
     "metadata": {},
     "output_type": "display_data"
    }
   ],
   "source": [
    "# 2.3 Histogramm des Schlusskurses\n",
    "import matplotlib.pyplot as plt\n",
    "\n",
    "# Histogramm für die Zielvariable \"High\"\n",
    "plt.hist(df[target_variable], bins=50, color='skyblue', edgecolor='black')\n",
    "plt.title(f'Distribution of {target_variable}')\n",
    "plt.xlabel('High')\n",
    "plt.ylabel('Frequency')\n",
    "plt.show()"
   ]
  },
  {
   "cell_type": "code",
   "execution_count": 22,
   "id": "43dc7192-9778-4ea8-929f-09d9efd6c6a1",
   "metadata": {},
   "outputs": [
    {
     "data": {
      "text/html": [
       "<div>\n",
       "<style scoped>\n",
       "    .dataframe tbody tr th:only-of-type {\n",
       "        vertical-align: middle;\n",
       "    }\n",
       "\n",
       "    .dataframe tbody tr th {\n",
       "        vertical-align: top;\n",
       "    }\n",
       "\n",
       "    .dataframe thead th {\n",
       "        text-align: right;\n",
       "    }\n",
       "</style>\n",
       "<table border=\"1\" class=\"dataframe\">\n",
       "  <thead>\n",
       "    <tr style=\"text-align: right;\">\n",
       "      <th></th>\n",
       "      <th>High</th>\n",
       "      <th>Open_scaled</th>\n",
       "      <th>Low_scaled</th>\n",
       "      <th>Close_scaled</th>\n",
       "    </tr>\n",
       "  </thead>\n",
       "  <tbody>\n",
       "    <tr>\n",
       "      <th>0</th>\n",
       "      <td>3.344743</td>\n",
       "      <td>-1.216770</td>\n",
       "      <td>-1.340969</td>\n",
       "      <td>-1.340648</td>\n",
       "    </tr>\n",
       "    <tr>\n",
       "      <th>1</th>\n",
       "      <td>3.358122</td>\n",
       "      <td>-1.216770</td>\n",
       "      <td>-1.340707</td>\n",
       "      <td>-1.340387</td>\n",
       "    </tr>\n",
       "    <tr>\n",
       "      <th>2</th>\n",
       "      <td>3.304606</td>\n",
       "      <td>-1.157599</td>\n",
       "      <td>-1.340707</td>\n",
       "      <td>-1.340387</td>\n",
       "    </tr>\n",
       "    <tr>\n",
       "      <th>3</th>\n",
       "      <td>3.358122</td>\n",
       "      <td>-1.216770</td>\n",
       "      <td>-1.340707</td>\n",
       "      <td>-1.340387</td>\n",
       "    </tr>\n",
       "    <tr>\n",
       "      <th>4</th>\n",
       "      <td>3.438396</td>\n",
       "      <td>-1.216770</td>\n",
       "      <td>-1.339132</td>\n",
       "      <td>-1.338822</td>\n",
       "    </tr>\n",
       "  </tbody>\n",
       "</table>\n",
       "</div>"
      ],
      "text/plain": [
       "       High  Open_scaled  Low_scaled  Close_scaled\n",
       "0  3.344743    -1.216770   -1.340969     -1.340648\n",
       "1  3.358122    -1.216770   -1.340707     -1.340387\n",
       "2  3.304606    -1.157599   -1.340707     -1.340387\n",
       "3  3.358122    -1.216770   -1.340707     -1.340387\n",
       "4  3.438396    -1.216770   -1.339132     -1.338822"
      ]
     },
     "metadata": {},
     "output_type": "display_data"
    },
    {
     "name": "stdout",
     "output_type": "stream",
     "text": [
      "In diesem speziellen Datensatz, der historische Börsendaten enthält, könnte es jedoch sein, dass die Skalierung für einige Modelle wie lineare Regression oder Entscheidungsbäume weniger relevant ist. Diese Modelle sind weniger empfindlich gegenüber unskalierten Daten, da sie auf der Relation zwischen den Variablen basieren. Da die Felder wie 'Open', 'Close' und 'High' ähnliche Größenordnungen haben und im Zeitverlauf relativ konsistent sind, könnte die Skalierung in diesem Fall keinen großen Unterschied in der Modellleistung machen. Daher könnte es in diesem Fall sinnvoll sein, auf die Skalierung zu verzichten.\n"
     ]
    }
   ],
   "source": [
    "# 2.4 Skalierung des Schlusskurses\n",
    "from sklearn.preprocessing import StandardScaler\n",
    "\n",
    "# Skalierung der 'Open', 'Low' und 'Close' Felder\n",
    "scaler = StandardScaler()\n",
    "scaled_features = scaler.fit_transform(df[['Open', 'Low', 'Close']])\n",
    "\n",
    "# Erstelle einen DataFrame für die skalierten Werte und benenne die Spalten korrekt\n",
    "scaled_df = pd.DataFrame(scaled_features, columns=['Open_scaled', 'Low_scaled', 'Close_scaled'])\n",
    "\n",
    "# Füge die skalierten Spalten zu deinem ursprünglichen DataFrame hinzu\n",
    "df = pd.concat([df, scaled_df], axis=1)\n",
    "\n",
    "# Anzeige der ersten paar Zeilen der Daten, einschließlich der skalierten Spalten\n",
    "display(df[[target_variable, 'Open_scaled', 'Low_scaled', 'Close_scaled']].head())\n",
    "\n",
    "# 2.4 Begründung\n",
    "# Argumentation, warum Skalierung möglicherweise nicht sinnvoll ist\n",
    "print(\"In diesem speziellen Datensatz, der historische Börsendaten enthält, könnte es jedoch sein, dass die Skalierung für einige Modelle wie lineare Regression oder Entscheidungsbäume weniger relevant ist. \"\n",
    "      \"Diese Modelle sind weniger empfindlich gegenüber unskalierten Daten, da sie auf der Relation zwischen den Variablen basieren. \"\n",
    "      \"Da die Felder wie 'Open', 'Close' und 'High' ähnliche Größenordnungen haben und im Zeitverlauf relativ konsistent sind, könnte die Skalierung in diesem Fall keinen großen Unterschied in der Modellleistung machen. \"\n",
    "      \"Daher könnte es in diesem Fall sinnvoll sein, auf die Skalierung zu verzichten.\")"
   ]
  },
  {
   "cell_type": "code",
   "execution_count": null,
   "id": "99ff8ef4-b6ec-4f70-8db7-c180dfd05540",
   "metadata": {},
   "outputs": [],
   "source": []
  }
 ],
 "metadata": {
  "kernelspec": {
   "display_name": "Python 3 (ipykernel)",
   "language": "python",
   "name": "python3"
  },
  "language_info": {
   "codemirror_mode": {
    "name": "ipython",
    "version": 3
   },
   "file_extension": ".py",
   "mimetype": "text/x-python",
   "name": "python",
   "nbconvert_exporter": "python",
   "pygments_lexer": "ipython3",
   "version": "3.12.6"
  }
 },
 "nbformat": 4,
 "nbformat_minor": 5
}
