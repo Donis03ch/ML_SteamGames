{
 "cells": [
  {
   "cell_type": "markdown",
   "id": "aee0cfc0-a874-4217-b322-8ab8e990c34a",
   "metadata": {},
   "source": [
    "# evaluation.ipynb"
   ]
  },
  {
   "cell_type": "code",
   "execution_count": 4,
   "id": "68528795-7470-4ab2-8143-a326559c6297",
   "metadata": {},
   "outputs": [],
   "source": [
    "import pandas as pd\n",
    "import numpy as np\n",
    "import matplotlib.pyplot as plt\n",
    "from sklearn.linear_model import LinearRegression\n",
    "from sklearn.model_selection import train_test_split\n",
    "from sklearn.metrics import mean_squared_error, mean_absolute_error, confusion_matrix, classification_report, precision_score, recall_score\n",
    "\n",
    "\n",
    "df = pd.read_csv(r'C:\\Users\\donis\\Downloads\\Toyota_Data.csv') \n",
    "\n",
    "\n",
    "X = df[['Open', 'Low', 'Adj Close', 'Close', 'Volume']]\n",
    "y = df['High']\n",
    "\n",
    "\n",
    "X_train, X_test, y_train, y_test = train_test_split(X, y, test_size=0.2, random_state=42)\n",
    "\n",
    "\n",
    "model = LinearRegression()\n",
    "model.fit(X_train, y_train)\n",
    "\n",
    "\n",
    "y_pred = model.predict(X_test)"
   ]
  },
  {
   "cell_type": "markdown",
   "id": "f27052f6-3ceb-47f5-8dee-23ad97a01c90",
   "metadata": {},
   "source": [
    "## 4.1 Feature-Wichtigkeit"
   ]
  },
  {
   "cell_type": "code",
   "execution_count": 5,
   "id": "0a6039de-bdd1-4c4d-ab4d-11462837fddc",
   "metadata": {},
   "outputs": [
    {
     "data": {
      "image/png": "[encoded data removed]",
      "text/plain": [
       "<Figure size 640x480 with 1 Axes>"
      ]
     },
     "metadata": {},
     "output_type": "display_data"
    }
   ],
   "source": [
    "coefficients = pd.Series(model.coef_, index=X.columns)\n",
    "coefficients.sort_values(ascending=False).plot(kind='bar')\n",
    "plt.title(\"Einfluss der Features auf 'High'\")\n",
    "plt.ylabel(\"Koeffizientenwert\")\n",
    "plt.show()"
   ]
  },
  {
   "cell_type": "markdown",
   "id": "2fceaa4d-47f1-41b6-9353-b35efb857f7c",
   "metadata": {},
   "source": [
    "## 4.2 Messmetriken (MAE & MSE)"
   ]
  },
  {
   "cell_type": "code",
   "execution_count": 6,
   "id": "677262bd-05c4-4cc2-afb4-1aee2e748252",
   "metadata": {},
   "outputs": [
    {
     "name": "stdout",
     "output_type": "stream",
     "text": [
      "MSE: 0.25\n",
      "MAE: 0.28\n"
     ]
    }
   ],
   "source": [
    "mse = mean_squared_error(y_test, y_pred)\n",
    "mae = mean_absolute_error(y_test, y_pred)\n",
    "print(f\"MSE: {mse:.2f}\")\n",
    "print(f\"MAE: {mae:.2f}\")"
   ]
  },
  {
   "cell_type": "markdown",
   "id": "02fcb1cc-a1d8-443c-ac6c-df65bda5e00e",
   "metadata": {},
   "source": [
    "## 4.3 Wahrheitsmatrix, Recall & Precision"
   ]
  },
  {
   "cell_type": "code",
   "execution_count": 9,
   "id": "e441e4a0-a196-4616-b94a-155a4c51d870",
   "metadata": {},
   "outputs": [
    {
     "name": "stdout",
     "output_type": "stream",
     "text": [
      "Wahrheitsmatrix:\n",
      "[[1154    1]\n",
      " [   2 1102]]\n",
      "Precision: 1.00\n",
      "Recall: 1.00\n",
      "\n",
      "Klassifikationsbericht:\n",
      "              precision    recall  f1-score   support\n",
      "\n",
      "           0       1.00      1.00      1.00      1155\n",
      "           1       1.00      1.00      1.00      1104\n",
      "\n",
      "    accuracy                           1.00      2259\n",
      "   macro avg       1.00      1.00      1.00      2259\n",
      "weighted avg       1.00      1.00      1.00      2259\n",
      "\n"
     ]
    }
   ],
   "source": [
    "\"\"\"\n",
    "Da es sich beim Zielwert 'High' um eine stetige Variable handelt, wird zur Evaluation mittels Konfusionsmatrix eine binäre Klassifikation vorgenommen. \n",
    "Hierbei definieren wir alle Werte über dem Median als \"hoch\" (1) und darunter als \"nicht hoch\" (0). \n",
    "Dies ermöglicht die Berechnung von Precision und Recall auf Basis der Regressionsvorhersage.\n",
    "\"\"\"\n",
    "\n",
    "# Schwellenwert: Median\n",
    "threshold = y.median()\n",
    "y_test_class = (y_test > threshold).astype(int)\n",
    "y_pred_class = (y_pred > threshold).astype(int)\n",
    "\n",
    "# Wahrheitsmatrix\n",
    "cm = confusion_matrix(y_test_class, y_pred_class)\n",
    "tn, fp, fn, tp = cm.ravel()\n",
    "\n",
    "print(\"Wahrheitsmatrix:\")\n",
    "print(cm)\n",
    "\n",
    "# Precision und Recall\n",
    "precision = precision_score(y_test_class, y_pred_class)\n",
    "recall = recall_score(y_test_class, y_pred_class)\n",
    "\n",
    "print(f\"Precision: {precision:.2f}\")\n",
    "print(f\"Recall: {recall:.2f}\")\n",
    "\n",
    "\n",
    "print(\"\\nKlassifikationsbericht:\")\n",
    "print(classification_report(y_test_class, y_pred_class))\n"
   ]
  },
  {
   "cell_type": "markdown",
   "id": "63855622-fc26-4575-aafb-2b9547cc1337",
   "metadata": {},
   "source": [
    "## 4.4 Zusammenfassung\n",
    "\n",
    "Das Modell zeigt eine solide Vorhersagekraft bei der Schätzung des 'High'-Werts. Die wichtigsten Einflussgrößen waren 'Close' und 'Open'. \n",
    "Die Metriken zeigen, dass die Fehlerwerte (MSE, MAE) relativ gering sind. \n",
    "Die Klassifikation über Median erlaubt eine einfache Einschätzung, ob ein hoher Wert erwartet wird. \n",
    "Das Modell könnte durch Feature Engineering und erweiterte Modelle wie Random Forests verbessert werden."
   ]
  }
 ],
 "metadata": {
  "kernelspec": {
   "display_name": "Python 3 (ipykernel)",
   "language": "python",
   "name": "python3"
  },
  "language_info": {
   "codemirror_mode": {
    "name": "ipython",
    "version": 3
   },
   "file_extension": ".py",
   "mimetype": "text/x-python",
   "name": "python",
   "nbconvert_exporter": "python",
   "pygments_lexer": "ipython3",
   "version": "3.12.6"
  }
 },
 "nbformat": 4,
 "nbformat_minor": 5
}
